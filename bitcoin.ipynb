{
 "cells": [
  {
   "cell_type": "markdown",
   "id": "ebfdb344",
   "metadata": {},
   "source": [
    "# Bitcoin Price Analysis and Forecasting: Volatility Insights, Time Series Modeling, and Visualization"
   ]
  },
  {
   "cell_type": "markdown",
   "id": "e261c6d7",
   "metadata": {},
   "source": [
    "# Overview\n",
    "\n",
    "Bitcoin, the pioneering cryptocurrency, has ignited global interest due to its intriguing price fluctuations and potential impact on the financial landscape. This project is designed to provide a comprehensive exploration of Bitcoin's price behavior, encompassing historical trends, volatility patterns, and future price predictions.\n",
    "\n",
    "The foundation of this analysis rests on historical Bitcoin price data, meticulously collected from the CryptoCompare API. This dataset comprises of hourly Bitcoin price data starting from July 23, 2023, 23:00:00 and going back two years. The dataset encompasses a rich variety of information, including daily opening, closing, high, and low prices, along with corresponding trading volumes in Bitcoin and US Dollars. This comprehensive dataset serves as the bedrock for our in-depth analysis and forecasting endeavors."
   ]
  },
  {
   "cell_type": "markdown",
   "id": "5f8d5998",
   "metadata": {
    "toc": true
   },
   "source": [
    "<h1>Table of Contents<span class=\"tocSkip\"></span></h1>\n",
    "<div class=\"toc\"><ul class=\"toc-item\">\n",
    "    <ul class=\"toc-item\"><li><span><a href=\"#Exploratory-Data-Analysis-(EDA)\" data-toc-modified-id=\"Exploratory-Data-Analysis-(EDA)-2\"><span class=\"toc-item-num\">1&nbsp;&nbsp;</span>Exploratory Data Analysis (EDA)</a></span><ul class=\"toc-item\"><li><span><a href=\"#Finding-maximum-and-minimum-values-of-each-column-with-the-date-and-time-that-they-happened.\" data-toc-modified-id=\"Finding-maximum-and-minimum-values-of-each-column-with-the-date-and-time-that-they-happened.-2.1.1\"><span class=\"toc-item-num\">1.1&nbsp;&nbsp;</span>Finding maximum and minimum values of each column with the date and time that they happened.</a></span></li><li><span><a href=\"#Highest-and-lowest-trading-volumes-from-Bitcoin\" data-toc-modified-id=\"Highest-and-lowest-trading-volumes-from-Bitcoin-1.1\"><span class=\"toc-item-num\">1.2&nbsp;&nbsp;</span>Highest and lowest trading volumes from Bitcoin</a></span></li><li><span><a href=\"#The-correlation-between-the-trading-volume-and-the-Bitcoin-closing-price\" data-toc-modified-id=\"The-correlation-between-the-trading-volume-and-the-Bitcoin-closing-price-2.1.3\"><span class=\"toc-item-num\">1.3&nbsp;&nbsp;</span>The correlation between the trading volume and the Bitcoin closing price</a></span></li><li><span><a href=\"#Calculating-and-Visualizing-Returns\" data-toc-modified-id=\"Calculating-and-Visualizing-Returns-2.1.4\"><span class=\"toc-item-num\">1.4&nbsp;&nbsp;</span>Calculating and Visualizing Returns</a></span></li><li><span><a href=\"#Rolling-Statistics\" data-toc-modified-id=\"Rolling-Statistics-2.1.5\"><span class=\"toc-item-num\">1.5&nbsp;&nbsp;</span>Rolling Statistics</a></span></li><li><span><a href=\"#Seasonal-Decomposition\" data-toc-modified-id=\"Seasonal-Decomposition-2.1.6\"><span class=\"toc-item-num\">1.6&nbsp;&nbsp;</span>Seasonal Decomposition</a></span></li></ul></li><li><span><a href=\"#Volatility-Analysis\" data-toc-modified-id=\"Volatility-Analysis-2\"><span class=\"toc-item-num\">2&nbsp;&nbsp;</span>Volatility Analysis</a></span><ul class=\"toc-item\"><li><span><a href=\"#Daily-Volatility\" data-toc-modified-id=\"Daily-Volatility-2.1\"><span class=\"toc-item-num\">2.1&nbsp;&nbsp;</span>Daily Volatility</a></span></li><li><span><a href=\"#Historical-Volatility\" data-toc-modified-id=\"Historical-Volatility-2.2\"><span class=\"toc-item-num\">2.2&nbsp;&nbsp;</span>Historical Volatility</a></span></li><li><span><a href=\"#Volatility-Indicators:\" data-toc-modified-id=\"Volatility-Indicators:-2.3\"><span class=\"toc-item-num\">2.3&nbsp;&nbsp;</span>Volatility Indicators:</a></span><ul class=\"toc-item\"><li><span><a href=\"#Bollinger-Bands\" data-toc-modified-id=\"Bollinger-Bands-2.3.1\"><span class=\"toc-item-num\">2.3.1&nbsp;&nbsp;</span>Bollinger Bands</a></span></li><li><span><a href=\"#Identidying-overbought-and-potential-price-correction-datetimes\" data-toc-modified-id=\"Identidying-overbought-and-potential-price-correction-datetimes-2.2.3.2\"><span class=\"toc-item-num\">2.3.2&nbsp;&nbsp;</span>Identidying overbought and potential price correction datetimes</a></span></li><li><span><a href=\"#Uptrend-and-downtrend\" data-toc-modified-id=\"Uptrend-and-downtrend-2.3.3\"><span class=\"toc-item-num\">2.3.3&nbsp;&nbsp;</span>Uptrend and downtrend</a></span></li><li><span><a href=\"#Average-True-Range-(ATR):\" data-toc-modified-id=\"Average-True-Range-(ATR):-2.3.4\"><span class=\"toc-item-num\">2.3.4&nbsp;&nbsp;</span>Average True Range (ATR):</a></span></li></ul></li></ul></li><li><span><a href=\"#Time-Series-Modeling-and-Forecasting\" data-toc-modified-id=\"Time-Series-Modeling-and-Forecasting-3\"><span class=\"toc-item-num\">3&nbsp;&nbsp;</span>Time-Series Modeling and Forecasting</a></span><ul class=\"toc-item\"><li><span><a href=\"#ARIMA-(AutoRegressive-Integrated-Moving-Average)-Model\" data-toc-modified-id=\"ARIMA-(AutoRegressive-Integrated-Moving-Average)-Model-2.3.1\"><span class=\"toc-item-num\">3.1&nbsp;&nbsp;</span>ARIMA (AutoRegressive Integrated Moving Average) Model</a></span><ul class=\"toc-item\"><li><span><a href=\"#ACF-and-PACF-Plots\" data-toc-modified-id=\"ACF-and-PACF-Plots-3.1.1\"><span class=\"toc-item-num\">3.1.1&nbsp;&nbsp;</span>ACF and PACF Plots</a></span></li></ul></li><li><span><a href=\"#SARIMA-(Seasonal-ARIMA)-Model\" data-toc-modified-id=\"SARIMA-(Seasonal-ARIMA)-Model-3.2\"><span class=\"toc-item-num\">3.2&nbsp;&nbsp;</span>SARIMA (Seasonal ARIMA) Model</a></span></li><li><span><a href=\"#Facebook's-Prophet\" data-toc-modified-id=\"Facebook's-Prophet-3.3\"><span class=\"toc-item-num\">3.3&nbsp;&nbsp;</span>Facebook's Prophet</a></span></li><li><span><a href=\"#Model-Performance-Comparisons\" data-toc-modified-id=\"Model-Performance-Comparisons-3.4\"><span class=\"toc-item-num\">3.4&nbsp;&nbsp;</span>Model Performance Comparisons</a></span></li></ul></li></ul></div>"
   ]
  },
  {
   "cell_type": "code",
   "execution_count": null,
   "id": "a05d8791",
   "metadata": {
    "ExecuteTime": {
     "end_time": "2023-08-03T07:33:54.285715Z",
     "start_time": "2023-08-03T07:33:53.345834Z"
    },
    "tags": [
     "necessary"
    ]
   },
   "outputs": [],
   "source": [
    "import time\n",
    "import pandas as pd\n",
    "import datetime\n",
    "pd.options.mode.chained_assignment = None"
   ]
  },
  {
   "cell_type": "code",
   "execution_count": null,
   "id": "7c182262",
   "metadata": {
    "ExecuteTime": {
     "end_time": "2023-08-03T07:33:54.301658Z",
     "start_time": "2023-08-03T07:33:54.285715Z"
    }
   },
   "outputs": [],
   "source": [
    "# import requests\n",
    "## API_KEY = key removed for privacy\n",
    "# CRYPTO_SYMBOL = 'BTC'  # Bitcoin symbol\n",
    "# CURRENCY = 'USD'       # Currency to convert prices into\n",
    "# LIMIT = 2000           # Maximum limit per API call\n",
    "\n",
    "# # Calculate the timestamp of today and one year ago (in seconds)\n",
    "\n",
    "# today_timestamp = int(pd.to_datetime('2023-07-23 23:00:00').timestamp())\n",
    "# one_year_ago_timestamp = int(pd.to_datetime('2021-07-23 23:00:00').timestamp())\n",
    "\n",
    "# # Create an empty list to store the data points\n",
    "# data_points = []\n",
    "\n",
    "# # Number of data points to fetch for 1 year\n",
    "# num_data_points = 2*365 * 24  # 365 days * 24 hours\n",
    "\n",
    "# # Keep fetching data in batches until we get the required number of data points\n",
    "# while len(data_points) < num_data_points:\n",
    "#     # Calculate the number of data points to fetch in this batch\n",
    "#     remaining_data_points = num_data_points - len(data_points)\n",
    "#     batch_limit = min(remaining_data_points, LIMIT)\n",
    "    \n",
    "#     # Make the API call\n",
    "#     url = f'https://min-api.cryptocompare.com/data/v2/histohour?fsym={CRYPTO_SYMBOL}&tsym={CURRENCY}&limit={batch_limit}&toTs={today_timestamp}&api_key={API_KEY}'\n",
    "#     response = requests.get(url)\n",
    "\n",
    "#     if response.status_code == 200:\n",
    "#         batch_data = response.json()['Data']['Data']\n",
    "#         data_points.extend(batch_data)\n",
    "#         # Update 'today_timestamp' for the next batch\n",
    "#         today_timestamp -= (batch_limit * 3600)  # 1 hour = 3600 seconds\n",
    "#     else:\n",
    "#         print(f'Error: Unable to retrieve data. Status code: {response.status_code}')\n",
    "#         break\n",
    "\n",
    "# # Create a DataFrame from the list of data points\n",
    "# df = pd.DataFrame(data_points)\n",
    "# df['time'] = pd.to_datetime(df['time'], unit='s')  # Convert timestamps to datetime format\n",
    "# df.set_index('time', inplace=True)\n",
    "\n",
    "# df.sort_index(inplace=True)\n",
    "\n",
    "# df.to_csv('G:/Documents/Projects/Bitcoin/data/bitcoin_data.csv')"
   ]
  },
  {
   "cell_type": "code",
   "execution_count": null,
   "id": "62a253f4",
   "metadata": {
    "ExecuteTime": {
     "end_time": "2023-08-03T07:33:54.506537Z",
     "start_time": "2023-08-03T07:33:54.305658Z"
    },
    "tags": [
     "necessary"
    ]
   },
   "outputs": [],
   "source": [
    "bitcoin_data = pd.read_csv('G:/Documents/Projects/Bitcoin/data/bitcoin_data.csv', index_col = 'time')"
   ]
  },
  {
   "cell_type": "code",
   "execution_count": null,
   "id": "af159767",
   "metadata": {
    "ExecuteTime": {
     "end_time": "2023-08-03T07:33:54.554118Z",
     "start_time": "2023-08-03T07:33:54.511535Z"
    }
   },
   "outputs": [],
   "source": [
    "bitcoin_data.shape"
   ]
  },
  {
   "cell_type": "code",
   "execution_count": null,
   "id": "e93395d5",
   "metadata": {
    "ExecuteTime": {
     "end_time": "2023-08-03T07:33:54.696156Z",
     "start_time": "2023-08-03T07:33:54.557116Z"
    }
   },
   "outputs": [],
   "source": [
    "bitcoin_data"
   ]
  },
  {
   "cell_type": "code",
   "execution_count": null,
   "id": "d409e775",
   "metadata": {
    "ExecuteTime": {
     "end_time": "2023-08-03T07:33:54.791443Z",
     "start_time": "2023-08-03T07:33:54.700153Z"
    }
   },
   "outputs": [],
   "source": [
    "bitcoin_data.info()"
   ]
  },
  {
   "cell_type": "code",
   "execution_count": null,
   "id": "5f6db96d",
   "metadata": {
    "ExecuteTime": {
     "end_time": "2023-08-03T07:33:54.981192Z",
     "start_time": "2023-08-03T07:33:54.797441Z"
    },
    "tags": [
     "necessary"
    ]
   },
   "outputs": [],
   "source": [
    "bitcoin_data.drop(columns = ['conversionSymbol', 'conversionType'], inplace = True)"
   ]
  },
  {
   "cell_type": "code",
   "execution_count": null,
   "id": "bc701579",
   "metadata": {
    "ExecuteTime": {
     "end_time": "2023-08-03T07:33:55.076299Z",
     "start_time": "2023-08-03T07:33:54.984355Z"
    },
    "tags": [
     "necessary"
    ]
   },
   "outputs": [],
   "source": [
    "# Convert the 'datetime' column to a pandas datetime object and set it as the index\n",
    "bitcoin_data.index = pd.to_datetime(bitcoin_data.index)"
   ]
  },
  {
   "cell_type": "code",
   "execution_count": null,
   "id": "5ae124a1",
   "metadata": {
    "ExecuteTime": {
     "end_time": "2023-08-03T07:33:55.172240Z",
     "start_time": "2023-08-03T07:33:55.079298Z"
    },
    "tags": [
     "necessary"
    ]
   },
   "outputs": [],
   "source": [
    "bitcoin_data = bitcoin_data.drop_duplicates(keep='first')"
   ]
  },
  {
   "cell_type": "markdown",
   "id": "857bfcc8",
   "metadata": {},
   "source": [
    "## Exploratory Data Analysis (EDA)\n",
    "Exploratory Data Analysis is crucial for understanding the characteristics of your data and identifying patterns or anomalies. Here are some EDA steps you can perform:\n",
    "\n",
    "- Visualize Historical Prices: Plot the historical Bitcoin prices over time using line plots or candlestick charts. Observe any trends, seasonality, or notable events.\n",
    "\n",
    "- Calculate and Visualize Returns: Compute the percentage returns from the price data and plot them. Analyze the distribution of returns and look for patterns.\n",
    "\n",
    "- Rolling Statistics: Compute rolling statistics, such as moving averages and rolling standard deviations, to observe trends and volatility changes.\n",
    "\n",
    "- Seasonal Decomposition: Use seasonal decomposition techniques (e.g., seasonal decomposition of time series, or STL) to separate the data into trend, seasonality, and residual components.\n",
    "\n",
    "- Autocorrelation and Partial Autocorrelation: Analyze autocorrelation and partial autocorrelation plots to identify potential autoregressive (AR) and moving average (MA) components for time-series modeling."
   ]
  },
  {
   "cell_type": "code",
   "execution_count": null,
   "id": "c745ee62",
   "metadata": {
    "ExecuteTime": {
     "end_time": "2023-08-03T07:33:57.485756Z",
     "start_time": "2023-08-03T07:33:55.272283Z"
    },
    "tags": [
     "necessary"
    ]
   },
   "outputs": [],
   "source": [
    "import matplotlib.pyplot as plt\n",
    "import seaborn as sns\n",
    "import mplfinance as mpf\n",
    "import numpy as np\n",
    "import plotly.graph_objects as go"
   ]
  },
  {
   "cell_type": "markdown",
   "id": "514588c0",
   "metadata": {},
   "source": [
    "### Finding maximum and minimum values of each column with the date and time that they happened."
   ]
  },
  {
   "cell_type": "code",
   "execution_count": null,
   "id": "5da02b95",
   "metadata": {
    "ExecuteTime": {
     "end_time": "2023-08-03T07:33:55.268286Z",
     "start_time": "2023-08-03T07:33:55.179239Z"
    },
    "tags": [
     "necessary"
    ]
   },
   "outputs": [],
   "source": [
    "# Set the display format for floating-point numbers\n",
    "pd.options.display.float_format = '{:.2f}'.format\n",
    "\n",
    "# Create a new DataFrame to show the maximum value and its index beside it\n",
    "max_values_df = pd.DataFrame({\n",
    "    'Max Value': bitcoin_data.max(),\n",
    "    'Date of Max Value': bitcoin_data.idxmax()\n",
    "})\n",
    "\n",
    "max_values_df"
   ]
  },
  {
   "cell_type": "markdown",
   "id": "12e147a6",
   "metadata": {},
   "source": [
    "Let's check the market in the week leading to that all time high price on 2021-11-10 14:00:00."
   ]
  },
  {
   "cell_type": "code",
   "execution_count": null,
   "id": "69f554d0",
   "metadata": {
    "ExecuteTime": {
     "end_time": "2023-08-03T07:33:58.009572Z",
     "start_time": "2023-08-03T07:33:57.485756Z"
    }
   },
   "outputs": [],
   "source": [
    "highest_time = pd.to_datetime('2021-11-10 14:00:00')\n",
    "\n",
    "# Calculate the datetime for a week before 't0'\n",
    "week_before_highest = highest_time - pd.Timedelta(weeks=1)\n",
    "\n",
    "# Get the datetimes within the week before 't0' using date_range\n",
    "datetimes_week_before_highest = pd.date_range(start=week_before_highest, end=highest_time, freq='H')\n",
    "\n",
    "# Access the corresponding rows in the DataFrame\n",
    "data_week_before_highest = bitcoin_data.loc[datetimes_week_before_highest]\n",
    "\n",
    "plt.figure(figsize=(9, 6))\n",
    "sns.lineplot(x=data_week_before_highest.index, y=data_week_before_highest.high, color='blue')\n",
    "plt.title('High Values for the Week Before all-time high')\n",
    "plt.xlabel('Datetime')\n",
    "plt.ylabel('High Value')\n",
    "plt.grid(True)\n",
    "plt.tight_layout()\n",
    "plt.show()\n"
   ]
  },
  {
   "cell_type": "markdown",
   "id": "20183d78",
   "metadata": {},
   "source": [
    "Why did Bitcoin rise in November 2021?\n",
    "\n",
    "Bitcoin (BTC) price again reached an all-time high in 2021, as values exceeded over 65,000 USD in November 2021. That particular price hike was connected to the launch of a Bitcoin ETF in the United States, whilst others in 2021 were due to events involving Tesla and Coinbase, respectively\n",
    "\n",
    "A Bitcoin ETF (Exchange-Traded Fund) is a type of investment fund that tracks the price of Bitcoin (BTC) and aims to replicate its performance. ETFs are similar to mutual funds but are traded on stock exchanges like individual stocks. This means investors can buy and sell shares of a Bitcoin ETF throughout the trading day, just like any other stock.\n",
    "\n",
    "The primary objective of a Bitcoin ETF is to provide investors with exposure to the price movements of Bitcoin without having to own the actual cryptocurrency. Instead of directly buying and holding Bitcoin, investors can buy shares of the ETF, which represent ownership of a portfolio of Bitcoin or Bitcoin futures contracts held by the ETF issuer."
   ]
  },
  {
   "cell_type": "code",
   "execution_count": null,
   "id": "51ae472d",
   "metadata": {
    "ExecuteTime": {
     "end_time": "2023-08-03T07:33:58.041555Z",
     "start_time": "2023-08-03T07:33:58.013569Z"
    }
   },
   "outputs": [],
   "source": [
    "# Create a new DataFrame to show the maximum value and its index beside it\n",
    "min_values_df = pd.DataFrame({\n",
    "    'Min Value': bitcoin_data.min(),\n",
    "    'Date of Min Value': bitcoin_data.idxmin()\n",
    "})\n",
    "\n",
    "min_values_df"
   ]
  },
  {
   "cell_type": "markdown",
   "id": "4f0a023b",
   "metadata": {},
   "source": [
    "The slump in November 2022 was triggered by the collapse of FTX, which handled around \\\\$1 billion transactions each day. Its collapse is having a knock-on effect on other crypto exchanges. In June 2022 bitcoin dropped below \\\\$20,000 for the first time since 2020.\n",
    "\n",
    "On November 11, 2022, FTX announced Bankman-Fried's resignation as CEO of FTX, his predecessor, John J. Ray III, and the company's bankruptcy filing via Twitter."
   ]
  },
  {
   "cell_type": "code",
   "execution_count": null,
   "id": "a2391228",
   "metadata": {
    "ExecuteTime": {
     "end_time": "2023-08-03T07:33:59.807977Z",
     "start_time": "2023-08-03T07:33:58.045549Z"
    }
   },
   "outputs": [],
   "source": [
    "# Create an interactive line plot with zooming\n",
    "fig = go.Figure()\n",
    "fig.add_trace(go.Scatter(x=bitcoin_data.index, y=bitcoin_data['close'], mode='lines', line=dict(color='dodgerblue')))\n",
    "fig.update_layout(title='Hourly Bitcoin Closing Price',\n",
    "                  xaxis_title='Date',\n",
    "                  yaxis_title='Price')\n",
    "fig.show()"
   ]
  },
  {
   "cell_type": "markdown",
   "id": "79ee7e0b",
   "metadata": {},
   "source": [
    "Because there are so many data points, before plotting candlestick charts, I will resample the data to weekly frequency and aggregate using 'ohlc' (Open, High, Low, Close)"
   ]
  },
  {
   "cell_type": "code",
   "execution_count": null,
   "id": "66ad3306",
   "metadata": {
    "ExecuteTime": {
     "end_time": "2023-08-03T07:34:00.285678Z",
     "start_time": "2023-08-03T07:33:59.812972Z"
    }
   },
   "outputs": [],
   "source": [
    "bitcoin_data_weekly = bitcoin_data.resample('W').agg({'open': 'first', 'high': 'max', 'low': 'min', 'close': 'last', 'volumefrom': 'sum', 'volumeto': 'sum'})\n",
    "\n",
    "# Candlestick chart\n",
    "mc = mpf.make_marketcolors(up='g', down='r', wick='inherit', volume='inherit')\n",
    "s = mpf.make_mpf_style(marketcolors=mc)\n",
    "fig_size = (12, 8)  # Adjust width and height as needed\n",
    "mpf.plot(bitcoin_data_weekly, type='candle', style=s, title='Weekly Bitcoin Prices (Candlestick Chart)', figsize=fig_size)"
   ]
  },
  {
   "cell_type": "markdown",
   "id": "d39b7129",
   "metadata": {},
   "source": [
    "### Highest and lowest trading volumes from Bitcoin"
   ]
  },
  {
   "cell_type": "markdown",
   "id": "2267ec58",
   "metadata": {},
   "source": [
    "- Volume From: \"Volume From\" represents the total trading volume of the base cryptocurrency (in this case, Bitcoin) in a specific trading pair. It indicates the total amount of the base cryptocurrency that has been traded during the given time period.\n",
    "\n",
    "- Volume To: \"Volume To\" represents the total trading volume of the quote currency (in this case, USD) in a specific trading pair. It indicates the total amount of the quote currency that has been traded during the given time period.\n",
    "\n",
    "For example, let's say you have a trading pair BTC/USD, where Bitcoin (BTC) is the base currency, and the US Dollar (USD) is the quote currency. If the reported values for the trading pair are:\n",
    "\n",
    "- Volume From (BTC): 100 BTC\n",
    "- Volume To (USD): 2,000,000 USD\n",
    "\n",
    "This means that during the specified time period, 100 Bitcoin (BTC) has been traded against the US Dollar (USD), and the total value of those trades is $2,000,000 USD.\n",
    "\n",
    "The trading volume is an essential metric in cryptocurrency markets, as it provides insights into the liquidity and trading activity of a specific cryptocurrency pair. High trading volumes are often associated with more liquid markets, which can be beneficial for traders and investors."
   ]
  },
  {
   "cell_type": "code",
   "execution_count": null,
   "id": "0ad1d970",
   "metadata": {},
   "outputs": [],
   "source": [
    "plt.figure(figsize=(12, 6))\n",
    "plt.plot(bitcoin_data.index, bitcoin_data['volumefrom'], label='Volume From', color='blue')\n",
    "\n",
    "plt.title('Bitcoin Trading Volume Over Time')\n",
    "plt.xlabel('Date')\n",
    "plt.ylabel('Volume from Bitcoin')\n",
    "plt.grid(True)\n",
    "plt.show()"
   ]
  },
  {
   "cell_type": "code",
   "execution_count": null,
   "id": "fbd66951",
   "metadata": {},
   "outputs": [],
   "source": [
    "print(\"Highest trading volume from Bitcoin was {vol} and happened on {date}.\"\n",
    "      .format(vol=bitcoin_data.volumefrom.max(),date=bitcoin_data.volumefrom.idxmax()))\n",
    "\n",
    "print(\"Lowest trading volume from Bitcoin was {vol} and happened on {date}.\"\n",
    "      .format(vol=bitcoin_data.volumefrom.min(),date=bitcoin_data.volumefrom.idxmin()))"
   ]
  },
  {
   "cell_type": "code",
   "execution_count": null,
   "id": "4283bc69",
   "metadata": {},
   "outputs": [],
   "source": [
    "plt.figure(figsize=(12, 6))\n",
    "plt.plot(bitcoin_data.index, bitcoin_data['volumeto'], label='Volume To', color='orange')\n",
    "\n",
    "plt.title('Bitcoin Trading Volume Over Time')\n",
    "plt.xlabel('Date')\n",
    "plt.ylabel('Volume To USD')\n",
    "plt.grid(True)\n",
    "plt.show()"
   ]
  },
  {
   "cell_type": "code",
   "execution_count": null,
   "id": "28ab053d",
   "metadata": {},
   "outputs": [],
   "source": [
    "print(\"Highest trading volume to USD was {vol} and happened on {date}.\"\n",
    "      .format(vol=bitcoin_data.volumeto.max(),date=bitcoin_data.volumeto.idxmax()))\n",
    "\n",
    "print(\"Lowest trading volume to USD was {vol} and happened on {date}.\"\n",
    "      .format(vol=bitcoin_data.volumeto.min(),date=bitcoin_data.volumeto.idxmin()))"
   ]
  },
  {
   "cell_type": "markdown",
   "id": "d114b3c0",
   "metadata": {},
   "source": [
    "### The correlation between the trading volume and the Bitcoin closing price"
   ]
  },
  {
   "cell_type": "code",
   "execution_count": null,
   "id": "56daa751",
   "metadata": {},
   "outputs": [],
   "source": [
    "import plotly.express as px\n",
    "\n",
    "correlation = bitcoin_data['volumefrom'].corr(bitcoin_data['close']) \n",
    "\n",
    "fig = px.scatter(bitcoin_data, x='volumefrom', y='close', opacity=0.5,\n",
    "                 title='Correlation between Trading Volume and Bitcoin Closing Price',\n",
    "                 labels={'volumefrom': 'Trading Volume', 'close': 'Closing Price'})\n",
    "fig.update_layout(showlegend=False)\n",
    "fig.show()\n",
    "\n",
    "print(\"Correlation between Trading Volume and Closing Price:\", correlation)\n"
   ]
  },
  {
   "cell_type": "markdown",
   "id": "4bd4528b",
   "metadata": {},
   "source": [
    "The negative correlation indicates that as trading volume increases, the closing price tends to decrease."
   ]
  },
  {
   "cell_type": "markdown",
   "id": "5b43f7cb",
   "metadata": {},
   "source": [
    "We see that the points are clustered to the left of the plot. This may indiciate:\n",
    "\n",
    "- Higher Trading Activity at Lower Prices: The clustering of points to the left suggests that there is a concentration of higher trading activity (volume) when the Bitcoin price is relatively lower. This could mean that more traders are actively buying and selling Bitcoin when its price is in a specific range.\n",
    "\n",
    "\n",
    "- Key Price Levels: The clustering might indicate that there are certain key price levels or support/resistance levels where traders tend to engage in more buying and selling activities, leading to higher trading volumes. These levels could be significant for traders in their decision-making process.\n",
    "\n",
    "\n",
    "- Price Stability: The clustering might also reflect periods of price stability or consolidation, where the price is trading within a narrow range. During such periods, trading activity may be more pronounced as traders try to capitalize on potential price movements."
   ]
  },
  {
   "cell_type": "markdown",
   "id": "e2997943",
   "metadata": {},
   "source": [
    "### Calculating and Visualizing Returns"
   ]
  },
  {
   "cell_type": "code",
   "execution_count": null,
   "id": "c4680408",
   "metadata": {
    "ExecuteTime": {
     "end_time": "2023-08-03T07:34:00.301668Z",
     "start_time": "2023-08-03T07:34:00.290676Z"
    },
    "tags": [
     "necessary"
    ]
   },
   "outputs": [],
   "source": [
    "# Calculate the percentage returns from the 'close' prices\n",
    "bitcoin_data['Returns'] = bitcoin_data['close'].pct_change() * 100"
   ]
  },
  {
   "cell_type": "code",
   "execution_count": null,
   "id": "0827c750",
   "metadata": {
    "ExecuteTime": {
     "end_time": "2023-08-03T07:34:01.641846Z",
     "start_time": "2023-08-03T07:34:00.306666Z"
    }
   },
   "outputs": [],
   "source": [
    "fig = go.Figure()\n",
    "\n",
    "fig.add_trace(go.Scatter(x=bitcoin_data.index, y=bitcoin_data['Returns'], mode='lines', line=dict(color='olivedrab')))\n",
    "\n",
    "fig.update_layout(title='Bitcoin Percentage Returns',\n",
    "                  xaxis_title='Date',\n",
    "                  yaxis_title='Percentage Returns')\n",
    "\n",
    "fig.show()"
   ]
  },
  {
   "cell_type": "code",
   "execution_count": null,
   "id": "f5e5c33d",
   "metadata": {
    "ExecuteTime": {
     "end_time": "2023-08-03T07:34:01.657835Z",
     "start_time": "2023-08-03T07:34:01.645841Z"
    }
   },
   "outputs": [],
   "source": [
    "print(\"Maximum Percentage Return:\", bitcoin_data['Returns'].max())\n",
    "print(\"Date of Maximum Percentage Return:\", bitcoin_data['Returns'].idxmax())"
   ]
  },
  {
   "cell_type": "code",
   "execution_count": null,
   "id": "4bf71764",
   "metadata": {
    "ExecuteTime": {
     "end_time": "2023-08-03T07:34:01.817737Z",
     "start_time": "2023-08-03T07:34:01.661832Z"
    }
   },
   "outputs": [],
   "source": [
    "print(\"Minimum Percentage Return:\", bitcoin_data['Returns'].min())\n",
    "print(\"Date of Minimum Percentage Return:\", bitcoin_data['Returns'].idxmin())"
   ]
  },
  {
   "cell_type": "markdown",
   "id": "91a4bcf4",
   "metadata": {},
   "source": [
    "### Rolling Statistics"
   ]
  },
  {
   "cell_type": "code",
   "execution_count": null,
   "id": "4466a433",
   "metadata": {
    "ExecuteTime": {
     "end_time": "2023-08-03T07:34:01.929666Z",
     "start_time": "2023-08-03T07:34:01.823733Z"
    },
    "tags": [
     "necessary"
    ]
   },
   "outputs": [],
   "source": [
    "# Compute the Weekly rolling mean and standard deviation\n",
    "# Data is hourly, so if we want to calculate 30 day rolling means the window size must be multiplied by 24 hours\n",
    "bitcoin_data['Weekly Rolling Mean'] = bitcoin_data['close'].rolling(window=7*24).mean()\n",
    "bitcoin_data['Weekly Rolling Std'] = bitcoin_data['close'].rolling(window=7*24).std()"
   ]
  },
  {
   "cell_type": "code",
   "execution_count": null,
   "id": "bff8596a",
   "metadata": {
    "ExecuteTime": {
     "end_time": "2023-08-03T07:34:05.617057Z",
     "start_time": "2023-08-03T07:34:01.933664Z"
    }
   },
   "outputs": [],
   "source": [
    "fig = go.Figure()\n",
    "\n",
    "fig.add_trace(go.Scatter(x=bitcoin_data.index, y=bitcoin_data['close'], mode='lines', line=dict(color='dodgerblue'),\n",
    "                         name='Bitcoin Price'))\n",
    "\n",
    "fig.add_trace(go.Scatter(x=bitcoin_data.index, y=bitcoin_data['Weekly Rolling Mean'], mode='lines', line=dict(color='orange'),\n",
    "                         name='Weekly Rolling Mean'))\n",
    "\n",
    "fig.add_trace(go.Scatter(x=bitcoin_data.index, y=bitcoin_data['Weekly Rolling Std'], mode='lines', line=dict(color='lightgray'),\n",
    "                         name='Weekly Rolling Std', fill='tonexty'))\n",
    "\n",
    "fig.update_layout(title='Bitcoin Price with Weekly Rolling Mean and Std',\n",
    "                  xaxis_title='Date',\n",
    "                  yaxis_title='Price',\n",
    "                  xaxis=dict(showgrid=True),\n",
    "                  yaxis=dict(showgrid=True),\n",
    "                  showlegend=True,\n",
    "                  xaxis_rangeslider_visible=True)\n",
    "\n",
    "fig.show()\n"
   ]
  },
  {
   "cell_type": "code",
   "execution_count": null,
   "id": "8ce8f6b3",
   "metadata": {
    "ExecuteTime": {
     "end_time": "2023-08-03T07:34:05.632681Z",
     "start_time": "2023-08-03T07:34:05.617057Z"
    }
   },
   "outputs": [],
   "source": [
    "print(\"Maximum Weekly Rolling Std:\", bitcoin_data['Weekly Rolling Std'].max())\n",
    "print(\"Date of Maximum Weekly Rolling Std:\", bitcoin_data['Weekly Rolling Std'].idxmax())"
   ]
  },
  {
   "cell_type": "markdown",
   "id": "b2a0b800",
   "metadata": {},
   "source": [
    "###  Seasonal Decomposition"
   ]
  },
  {
   "cell_type": "code",
   "execution_count": null,
   "id": "bee94c01",
   "metadata": {
    "ExecuteTime": {
     "end_time": "2023-08-03T07:34:06.866962Z",
     "start_time": "2023-08-03T07:34:05.632681Z"
    },
    "tags": [
     "necessary"
    ]
   },
   "outputs": [],
   "source": [
    "import statsmodels.api as sm\n",
    "\n",
    "# Perform seasonal decomposition\n",
    "decomposition = sm.tsa.seasonal_decompose(bitcoin_data['close'], model='additive', period=7*24)\n",
    "trend = decomposition.trend\n",
    "seasonal = decomposition.seasonal\n",
    "residual = decomposition.resid\n"
   ]
  },
  {
   "cell_type": "code",
   "execution_count": null,
   "id": "c6aafde1",
   "metadata": {
    "ExecuteTime": {
     "end_time": "2023-08-03T07:34:08.862996Z",
     "start_time": "2023-08-03T07:34:06.866962Z"
    }
   },
   "outputs": [],
   "source": [
    "# Create line plots for trend, seasonality, and residuals\n",
    "plt.figure(figsize=(10, 8))\n",
    "plt.subplot(4, 1, 1)\n",
    "plt.plot(bitcoin_data.index, bitcoin_data['close'], label='Original')\n",
    "plt.title('Original Bitcoin Price')\n",
    "plt.xlabel('Date')\n",
    "plt.ylabel('Price')\n",
    "plt.grid(True)\n",
    "\n",
    "plt.subplot(4, 1, 2)\n",
    "plt.plot(bitcoin_data.index, trend, label='Trend', color='orange')\n",
    "plt.title('Trend Component')\n",
    "plt.xlabel('Date')\n",
    "plt.ylabel('Trend')\n",
    "plt.grid(True)\n",
    "\n",
    "plt.subplot(4, 1, 3)\n",
    "plt.plot(bitcoin_data.index, seasonal, label='Seasonal', color='green')\n",
    "plt.title('Seasonal Component')\n",
    "plt.xlabel('Date')\n",
    "plt.ylabel('Seasonal')\n",
    "plt.grid(True)\n",
    "\n",
    "plt.subplot(4, 1, 4)\n",
    "plt.plot(bitcoin_data.index, residual, label='Residual', color='red')\n",
    "plt.title('Residual Component')\n",
    "plt.xlabel('Date')\n",
    "plt.ylabel('Residual')\n",
    "plt.grid(True)\n",
    "\n",
    "plt.tight_layout()\n",
    "plt.show()"
   ]
  },
  {
   "cell_type": "markdown",
   "id": "3d1fbcbe",
   "metadata": {},
   "source": [
    "The Sesonal is overplotted; to see the seasonality we can either change the `period` of the decomposition, or plot a zoomable figure."
   ]
  },
  {
   "cell_type": "code",
   "execution_count": null,
   "id": "2fffa25b",
   "metadata": {
    "ExecuteTime": {
     "end_time": "2023-08-03T07:34:10.179819Z",
     "start_time": "2023-08-03T07:34:08.865994Z"
    }
   },
   "outputs": [],
   "source": [
    "fig = go.Figure()\n",
    "\n",
    "fig.add_trace(go.Scatter(x=bitcoin_data.index, y=seasonal, mode='lines', line=dict(color='green'),\n",
    "                         name='Seasonal'))\n",
    "\n",
    "fig.update_layout(title='Zoomable Seasonality Plot',\n",
    "                  xaxis_title='Date',\n",
    "                  yaxis_title='Value',\n",
    "                  xaxis_rangeslider_visible=True)\n",
    "\n",
    "fig.show()"
   ]
  },
  {
   "cell_type": "markdown",
   "id": "2ee2f305",
   "metadata": {},
   "source": [
    "At first glance, the Trend and Residual components look almost identical to Weekly Rolling mean and Std. \n",
    "\n",
    "Let's plot each and compare."
   ]
  },
  {
   "cell_type": "code",
   "execution_count": null,
   "id": "3b00d0e1",
   "metadata": {
    "ExecuteTime": {
     "end_time": "2023-08-03T07:34:12.886154Z",
     "start_time": "2023-08-03T07:34:10.182816Z"
    }
   },
   "outputs": [],
   "source": [
    "fig = go.Figure()\n",
    "\n",
    "fig.add_trace(go.Scatter(x=bitcoin_data.index, y=trend, mode='lines', line=dict(color='dodgerblue'),\n",
    "                         name='Trend'))\n",
    "\n",
    "fig.add_trace(go.Scatter(x=bitcoin_data.index, y=bitcoin_data['Weekly Rolling Mean'], mode='lines', line=dict(color='orange'),\n",
    "                         name='Weekly Rolling Mean'))\n",
    "\n",
    "fig.update_layout(title='Trend and Weekly Rolling Mean',\n",
    "                  xaxis_title='Date',\n",
    "                  yaxis_title='Value',\n",
    "                  xaxis=dict(showgrid=True),\n",
    "                  yaxis=dict(showgrid=True),\n",
    "                  showlegend=True,\n",
    "                  xaxis_rangeslider_visible=True)\n",
    "\n",
    "fig.show()\n"
   ]
  },
  {
   "cell_type": "markdown",
   "id": "6fe1befc",
   "metadata": {},
   "source": [
    "The trend component represents the underlying long-term movement of the data, while the rolling average is a way to smooth out short-term fluctuations and highlight the general trend.\n",
    "\n",
    "The fact that the trend component and the Weekly rolling average are very similar shows that the seasonality is relatively stable over time, and the seasonal decomposition method effectively captures it. \n",
    "\n",
    "The seasonal decomposition method we used here is the \"additive\" model, where the observed data is considered as the sum of the trend, seasonal, and residual components. In this model, the trend component tends to show a linear or linear-like pattern, and it may be similar to the rolling average."
   ]
  },
  {
   "cell_type": "markdown",
   "id": "b5f66eca",
   "metadata": {},
   "source": [
    "Since standard deviation can only have positive values, we take the absolute value of residual to make the comparison easier."
   ]
  },
  {
   "cell_type": "code",
   "execution_count": null,
   "id": "0b371404",
   "metadata": {
    "ExecuteTime": {
     "end_time": "2023-08-03T07:34:15.346467Z",
     "start_time": "2023-08-03T07:34:12.889152Z"
    }
   },
   "outputs": [],
   "source": [
    "fig = go.Figure()\n",
    "\n",
    "fig.add_trace(go.Scatter(x=bitcoin_data.index, y=np.abs(residual), mode='lines', line=dict(color='dodgerblue'),\n",
    "                         name='Trend'))\n",
    "\n",
    "fig.add_trace(go.Scatter(x=bitcoin_data.index, y=bitcoin_data['Weekly Rolling Std'], mode='lines', line=dict(color='yellow'),\n",
    "                         name='Weekly Rolling Std'))\n",
    "\n",
    "fig.update_layout(title='Residual and Weekly Rolling Std',\n",
    "                  xaxis_title='Date',\n",
    "                  yaxis_title='Value',\n",
    "                  xaxis=dict(showgrid=True),\n",
    "                  yaxis=dict(showgrid=True),\n",
    "                  showlegend=True,\n",
    "                  xaxis_rangeslider_visible=True)\n",
    "\n",
    "fig.show()\n"
   ]
  },
  {
   "cell_type": "markdown",
   "id": "348fae97",
   "metadata": {},
   "source": [
    "The residual component represents the part of the data that cannot be explained by the trend and seasonality. It is essentially the leftover variation in the data after the trend and seasonality have been removed. On the other hand, the rolling standard deviation is a measure of how much the data deviates from its average value over a rolling window of 30 days.\n",
    "\n",
    "Here the seasonal decomposition method effectively captures the trend and seasonality in the data, since the residual component should ideally contain random noise and irregular fluctuations. Therefore the residual component is similar to the rolling standard deviation, which captures the dispersion of the data around its mean.\n",
    "\n",
    "Both the residual component and the rolling standard deviation provide insights into the volatility or variability of the data. A close similarity between the two may indicate that the data has relatively stable variability around the trend and seasonality."
   ]
  },
  {
   "cell_type": "markdown",
   "id": "2d94719f",
   "metadata": {},
   "source": [
    "## Volatility Analysis\n",
    "\n",
    "How much variation there is in consecutive price changes over time.\n",
    "\n",
    "Daily Volatility: Calculate the daily price changes and standard deviation to measure daily volatility.\n",
    "\n",
    "Rolling Volatility: Compute rolling (moving) standard deviations to observe how volatility changes over time.\n",
    "\n",
    "Volatility Clustering: Analyze periods of high and low volatility, known as volatility clustering, using visualizations or clustering techniques.\n",
    "\n",
    "Volatility Forecasting: Use GARCH (Generalized Autoregressive Conditional Heteroskedasticity) or EGARCH (Exponential GARCH) models to forecast future volatility.\n",
    "\n"
   ]
  },
  {
   "cell_type": "markdown",
   "id": "d4190ccc",
   "metadata": {},
   "source": [
    "### Daily Volatility\n",
    "Daily volatility measures the price changes of an asset on a daily basis. It can be calculated as the absolute daily returns or the standard deviation of daily returns. Using returns to measure volatility is a common practice in financial analysis, and it can provide valuable insights into the volatility of an asset's price movements. Volatility refers to the degree of variation of an asset's price over time, and returns are a key component in calculating and assessing this volatility."
   ]
  },
  {
   "cell_type": "markdown",
   "id": "d01aa4b5",
   "metadata": {},
   "source": [
    "Volatility Clustering refers to the tendency for periods of high volatility to be followed by more periods of high volatility and vice versa. This insight can help us understand how volatility changes over time and potentially predict periods of increased market activity.\n",
    "\n",
    "By analyzing the relationship between volatility and market trends we see that high volatility coincides with major market events, such as price spikes or crashes. By examining volatility patterns alongside price movements, we can gain insights into how external factors impact the market."
   ]
  },
  {
   "cell_type": "code",
   "execution_count": null,
   "id": "bfe2cefb",
   "metadata": {
    "ExecuteTime": {
     "end_time": "2023-08-03T07:34:15.395438Z",
     "start_time": "2023-08-03T07:34:15.369454Z"
    },
    "tags": [
     "necessary"
    ]
   },
   "outputs": [],
   "source": [
    "# Resample the data to daily intervals and calculate the daily closing prices\n",
    "bitcoin_close_daily = bitcoin_data['close'].resample('D').last()\n",
    "\n",
    "# Calculate the percentage daily returns\n",
    "daily_returns = bitcoin_close_daily.pct_change() * 100"
   ]
  },
  {
   "cell_type": "code",
   "execution_count": null,
   "id": "9e94a3af",
   "metadata": {
    "ExecuteTime": {
     "end_time": "2023-08-03T07:34:15.779121Z",
     "start_time": "2023-08-03T07:34:15.652272Z"
    },
    "tags": [
     "necessary"
    ]
   },
   "outputs": [],
   "source": [
    "# Resample the data to weekly intervals and calculate the weekly closing prices\n",
    "bitcoin_close_weekly = bitcoin_data['close'].resample('W').mean()\n",
    "\n",
    "# Calculate the percentage daily returns\n",
    "weekly_returns = bitcoin_close_weekly.pct_change() * 100"
   ]
  },
  {
   "cell_type": "code",
   "execution_count": null,
   "id": "d79fc7c9",
   "metadata": {
    "ExecuteTime": {
     "end_time": "2023-08-03T07:34:15.970007Z",
     "start_time": "2023-08-03T07:34:15.782120Z"
    }
   },
   "outputs": [],
   "source": [
    "fig = go.Figure()\n",
    "\n",
    "fig.add_trace(go.Scatter(x=bitcoin_close_daily.index, y=daily_returns, mode='lines', line=dict(color='dodgerblue'), name = 'Daily Returns'))\n",
    "fig.add_trace(go.Scatter(x=bitcoin_close_weekly.index, y=weekly_returns, mode='lines', line=dict(color='blue'), name = 'Weekly Returns'))\n",
    "\n",
    "fig.update_layout(title='Bitcoin Daily and Weekly Percentage Returns',\n",
    "                  xaxis_title='Date',\n",
    "                  yaxis_title='Daily/Weekly Percentage Returns')\n",
    "\n",
    "fig.show()"
   ]
  },
  {
   "cell_type": "code",
   "execution_count": null,
   "id": "5c491826",
   "metadata": {},
   "outputs": [],
   "source": [
    "import plotly.graph_objects as go\n",
    "\n",
    "fig = go.Figure()\n",
    "\n",
    "# Create the first trace (Daily Returns) using the primary y-axis\n",
    "fig.add_trace(go.Scatter(x=bitcoin_close_daily.index, y=daily_returns, mode='lines', line=dict(color='dodgerblue'), name='Daily Returns'))\n",
    "\n",
    "# Create the second trace (Daily Closing Prices) using the secondary y-axis\n",
    "fig.add_trace(go.Scatter(x=bitcoin_close_daily.index, y=bitcoin_close_daily, mode='lines', line=dict(color='orange'), name='Daily Closing Prices', yaxis='y2'))\n",
    "\n",
    "# Set up the layout with two y-axes\n",
    "fig.update_layout(title='Bitcoin Daily Returns and Closing Prices',\n",
    "                  xaxis_title='Date',\n",
    "                  yaxis_title='Daily Returns',\n",
    "                  yaxis2=dict(title='Daily Closing Prices', overlaying='y', side='right'),\n",
    "                  legend=dict(x=0, y=1, bgcolor='rgba(255, 255, 255, 0.5)'),\n",
    "                  )\n",
    "\n",
    "fig.show()\n"
   ]
  },
  {
   "cell_type": "markdown",
   "id": "e9722e50",
   "metadata": {},
   "source": [
    "As can be seen in this plot, spikes and crashes of the market coincide with periods of high volatility."
   ]
  },
  {
   "cell_type": "markdown",
   "id": "0f11e501",
   "metadata": {},
   "source": [
    "### Historical Volatility\n",
    "Historical volatility measures the past price fluctuations of an asset over a specific period. It is typically computed as the standard deviation of the asset's returns. Higher historical volatility implies greater price variability in the past."
   ]
  },
  {
   "cell_type": "code",
   "execution_count": null,
   "id": "e250e3e9",
   "metadata": {
    "ExecuteTime": {
     "end_time": "2023-08-03T07:34:16.127907Z",
     "start_time": "2023-08-03T07:34:15.991991Z"
    }
   },
   "outputs": [],
   "source": [
    "# Annualizing using 252 trading days in a year\n",
    "historical_volatility = bitcoin_data['Returns'].rolling(window=7*24).std() * (252 ** 0.5)  "
   ]
  },
  {
   "cell_type": "code",
   "execution_count": null,
   "id": "a40ccfa8",
   "metadata": {
    "ExecuteTime": {
     "end_time": "2023-08-03T07:34:17.187755Z",
     "start_time": "2023-08-03T07:34:16.132905Z"
    }
   },
   "outputs": [],
   "source": [
    "# Assuming you have already calculated historical volatility as 'historical_volatility'\n",
    "\n",
    "fig, ax1 = plt.subplots(figsize=(10, 6))\n",
    "\n",
    "# Plot Bitcoin prices on the primary y-axis (left side)\n",
    "ax1.plot(bitcoin_data.index, bitcoin_data['close'], label='Bitcoin Price', color='blue')\n",
    "ax1.set_xlabel('Date')\n",
    "ax1.set_ylabel('Bitcoin Price', color='blue')\n",
    "ax1.tick_params(axis='y', labelcolor='blue')\n",
    "ax1.grid(True)\n",
    "\n",
    "# Create a secondary y-axis for historical volatility (right side)\n",
    "ax2 = ax1.twinx()\n",
    "ax2.plot(bitcoin_data.index, historical_volatility, label='Historical Volatility', color='orange')\n",
    "ax2.set_ylabel('Historical Volatility', color='orange')\n",
    "ax2.tick_params(axis='y', labelcolor='orange')\n",
    "\n",
    "# Add a legend that combines both lines from both y-axes\n",
    "lines_1, labels_1 = ax1.get_legend_handles_labels()\n",
    "lines_2, labels_2 = ax2.get_legend_handles_labels()\n",
    "ax1.legend(lines_1 + lines_2, labels_1 + labels_2, loc='upper left')\n",
    "\n",
    "plt.title('Bitcoin Price and Historical Volatility')\n",
    "plt.grid(True)\n",
    "plt.tight_layout()\n",
    "plt.show()\n"
   ]
  },
  {
   "cell_type": "markdown",
   "id": "ad3bd95f",
   "metadata": {},
   "source": [
    "### Volatility Indicators:\n",
    "There are various volatility indicators that can help identify trends or changes in volatility. Some popular volatility indicators include the Bollinger Bands, Average True Range (ATR), and the Volatility Index (VIX)."
   ]
  },
  {
   "cell_type": "markdown",
   "id": "5ecaa4a9",
   "metadata": {},
   "source": [
    "#### Bollinger Bands\n",
    "Bollinger Bands are a popular technical indicator that helps traders and analysts understand price volatility and potential trading signals. They were developed by John Bollinger in the 1980s and consist of three lines plotted on a price chart:\n",
    "\n",
    "Middle Band: The middle band is a simple moving average (SMA) of the asset's price over a specified period. The most commonly used period is 20 days, but you can adjust it based on your analysis objectives.\n",
    "\n",
    "Upper Band: The upper band is derived by adding a specified number of standard deviations (usually 2) to the middle band. The standard deviation is a measure of the asset's price volatility. The upper band represents a zone where prices are relatively high.\n",
    "\n",
    "Lower Band: The lower band is derived by subtracting a specified number of standard deviations (usually 2) from the middle band. The lower band represents a zone where prices are relatively low."
   ]
  },
  {
   "cell_type": "markdown",
   "id": "5fd95538",
   "metadata": {},
   "source": [
    "Bollinger Bands can be used for:\n",
    "\n",
    "- Volatility Assessment: Bollinger Bands provide a visual representation of market volatility. When the bands are wide, it indicates higher volatility, and when they are narrow, it indicates lower volatility.\n",
    "\n",
    "- Overbought and Oversold Levels: Traders often look for potential buying opportunities when the price touches or crosses the lower band, as it suggests that the asset may be oversold. Similarly, potential selling opportunities are sought when the price touches or crosses the upper band, as it suggests that the asset may be overbought.\n",
    "\n",
    "- Price Breakouts: Bollinger Bands can help identify potential breakouts. A breakout occurs when the price moves outside the bands. Traders may interpret a breakout as a signal to enter or exit positions."
   ]
  },
  {
   "cell_type": "code",
   "execution_count": null,
   "id": "cea9f732",
   "metadata": {
    "ExecuteTime": {
     "end_time": "2023-08-03T07:34:17.203743Z",
     "start_time": "2023-08-03T07:34:17.193751Z"
    }
   },
   "outputs": [],
   "source": [
    "# For example, using Bollinger Bands to identify volatility bands around the moving average\n",
    "upper_band = bitcoin_data['Weekly Rolling Mean'] + 2 * bitcoin_data['Weekly Rolling Std']\n",
    "lower_band = bitcoin_data['Weekly Rolling Mean'] - 2 * bitcoin_data['Weekly Rolling Std']"
   ]
  },
  {
   "cell_type": "markdown",
   "id": "c3318f77",
   "metadata": {},
   "source": [
    "#### Identidying overbought and potential price correction datetimes"
   ]
  },
  {
   "cell_type": "code",
   "execution_count": null,
   "id": "50cac40b",
   "metadata": {
    "ExecuteTime": {
     "end_time": "2023-08-03T07:34:17.663339Z",
     "start_time": "2023-08-03T07:34:17.208742Z"
    }
   },
   "outputs": [],
   "source": [
    "# Identify overbought datetimes using the upper Bollinger Band\n",
    "overbought_datetimes = bitcoin_data[bitcoin_data.close >= upper_band].index\n",
    "\n",
    "# Set the number of periods to consider for potential corrections\n",
    "num_periods_after_overbought = 5\n",
    "\n",
    "# Initialize an empty list to store potential correction datetimes\n",
    "correction_datetimes = []\n",
    "\n",
    "# Look for price reversals after overbought datetimes\n",
    "for overbought_datetime in overbought_datetimes:\n",
    "    # Get the index of the overbought datetime in the DataFrame\n",
    "    overbought_index = bitcoin_data.index.get_loc(overbought_datetime)\n",
    "    \n",
    "    # Check if the price falls below the 'Weekly Rolling Mean' within the specified number of periods\n",
    "    for i in range(1, num_periods_after_overbought + 1):\n",
    "        next_index = overbought_index + i\n",
    "        if next_index < len(bitcoin_data):\n",
    "            if bitcoin_data['close'].iloc[next_index] < bitcoin_data['Weekly Rolling Mean'].iloc[next_index]:\n",
    "                correction_datetimes.append(bitcoin_data.index[next_index])\n",
    "                break"
   ]
  },
  {
   "cell_type": "code",
   "execution_count": null,
   "id": "4ea50524",
   "metadata": {
    "ExecuteTime": {
     "end_time": "2023-08-03T07:34:22.307581Z",
     "start_time": "2023-08-03T07:34:17.666800Z"
    }
   },
   "outputs": [],
   "source": [
    "# Plot Bitcoin prices\n",
    "trace_price = go.Scatter(x=bitcoin_data.index, y=bitcoin_data['close'], mode='lines', name='Bitcoin Price', line=dict(color='blue', width=2))\n",
    "\n",
    "# Plot the Weekly Simple Moving Average (SMA) as the middle band\n",
    "trace_sma = go.Scatter(x=bitcoin_data.index, y=bitcoin_data['Weekly Rolling Mean'], mode='lines', name='Weekly SMA', line=dict(color='orange', width=2))\n",
    "\n",
    "trace_upper_band = go.Scatter(x=bitcoin_data.index, y=upper_band, name = 'Upper Band', \n",
    "                              fill='tonexty', fillcolor='rgba(128, 128, 128, 0.2)', line=dict(color='aliceblue'))\n",
    "\n",
    "trace_lower_band = go.Scatter(x=bitcoin_data.index, y=lower_band, name = 'Lower Band', \n",
    "                              fill='tonexty', fillcolor='rgba(128, 128, 128, 0.2)', line=dict(color='honeydew'))\n",
    "\n",
    "# Create a trace for potential correction datetimes\n",
    "trace_correction_datetimes = go.Scatter(x=correction_datetimes, y=bitcoin_data.loc[correction_datetimes, 'close'], mode='markers', name='Potential Correction Datetimes', marker=dict(color='red', size=10, symbol='circle'))\n",
    "\n",
    "# Combine all traces into a data list\n",
    "data = [trace_price, trace_sma, trace_upper_band, trace_lower_band, trace_correction_datetimes]\n",
    "\n",
    "# Create layout\n",
    "layout = go.Layout(title='Bitcoin Price with Bollinger Bands and Potential Correction Datetimes',\n",
    "                   xaxis=dict(title='Date'),\n",
    "                   yaxis=dict(title='Bitcoin Price', side='left', titlefont=dict(color='blue')),\n",
    "                   yaxis2=dict(title='Weekly Rolling Mean', overlaying='y', side='right', titlefont=dict(color='orange')),\n",
    "                   showlegend=True,\n",
    "                   legend=dict(x=0, y=1, traceorder='normal'))\n",
    "\n",
    "# Create the figure\n",
    "fig = go.Figure(data=data, layout=layout)\n",
    "\n",
    "# Show the plot\n",
    "fig.show()"
   ]
  },
  {
   "cell_type": "markdown",
   "id": "0a5764c0",
   "metadata": {},
   "source": [
    "#### Uptrend and downtrend"
   ]
  },
  {
   "cell_type": "markdown",
   "id": "a47a8526",
   "metadata": {},
   "source": [
    "- Trading Signals: Uptrends and downtrends can serve as trading signals for traders and investors. For example, when the price is in an uptrend, it might be a signal to buy or hold the asset, while a downtrend could indicate a potential selling opportunity.\n",
    "\n",
    "- Risk Management: Understanding the trend direction can help with risk management. Traders might reduce their exposure to the asset during downtrends to minimize potential losses, while increasing exposure during uptrends to take advantage of potential gains.\n",
    "\n",
    "- Strategy Development: Uptrends and downtrends can be used as components in developing trading strategies. For instance, you could create a trend-following strategy that buys when an uptrend is confirmed and sells or shorts when a downtrend is confirmed.\n",
    "\n",
    "- Volatility Analysis: Analyzing trends can also provide insights into the market's volatility. Volatile markets may exhibit rapid and frequent changes in trend direction, while less volatile markets might have more stable and sustained trends.\n",
    "\n",
    "- Market Sentiment: Trends can reflect market sentiment and help gauge the overall bullish or bearish sentiment among traders and investors.\n",
    "\n",
    "- Pattern Recognition: By identifying trends, you can also look for patterns like higher highs and higher lows in uptrends and lower highs and lower lows in downtrends. Recognizing patterns can provide additional information for making trading decisions."
   ]
  },
  {
   "cell_type": "code",
   "execution_count": null,
   "id": "9a06f463",
   "metadata": {
    "ExecuteTime": {
     "end_time": "2023-08-03T07:34:22.338829Z",
     "start_time": "2023-08-03T07:34:22.307581Z"
    }
   },
   "outputs": [],
   "source": [
    "# Resample the data to weekly intervals and calculate the weekly mean\n",
    "bitcoin_data_weekly = bitcoin_data.resample('W').mean()\n",
    "\n",
    "# Initialize a boolean mask for uptrends and downtrends\n",
    "is_uptrend = bitcoin_data_weekly['close'] > bitcoin_data_weekly['Weekly Rolling Mean']\n",
    "is_downtrend = bitcoin_data_weekly['close'] < bitcoin_data_weekly['Weekly Rolling Mean']\n",
    "\n",
    "# Use the boolean masks to label the trends (1 for uptrend, -1 for downtrend, and 0 for neutral)\n",
    "bitcoin_data_weekly['Trend'] = 0  # Initialize the 'Trend' column with 0 (neutral)\n",
    "bitcoin_data_weekly.loc[is_uptrend, 'Trend'] = 1\n",
    "bitcoin_data_weekly.loc[is_downtrend, 'Trend'] = -1"
   ]
  },
  {
   "cell_type": "code",
   "execution_count": null,
   "id": "2bc00aca",
   "metadata": {
    "ExecuteTime": {
     "end_time": "2023-08-03T07:34:22.465106Z",
     "start_time": "2023-08-03T07:34:22.338829Z"
    }
   },
   "outputs": [],
   "source": [
    "bitcoin_data['3D Rolling Mean'] = bitcoin_data['close'].rolling(window=3*24).mean()\n",
    "bitcoin_data['3D Rolling Std'] = bitcoin_data['close'].rolling(window=3*24).std()"
   ]
  },
  {
   "cell_type": "code",
   "execution_count": null,
   "id": "9d3c7fe8",
   "metadata": {
    "ExecuteTime": {
     "end_time": "2023-08-03T07:34:23.823023Z",
     "start_time": "2023-08-03T07:34:22.469104Z"
    },
    "scrolled": true
   },
   "outputs": [],
   "source": [
    "# Resample the data to 3-day intervals and calculate the 3-day mean\n",
    "bitcoin_data_3day = bitcoin_data.resample('3D').mean()\n",
    "\n",
    "# Initialize a boolean mask for uptrends and downtrends\n",
    "is_uptrend = bitcoin_data_3day['close'] > bitcoin_data_3day['3D Rolling Mean']\n",
    "is_downtrend = bitcoin_data_3day['close'] < bitcoin_data_3day['3D Rolling Mean']\n",
    "\n",
    "# Create the Bitcoin price line trace containing all data\n",
    "price_trace = go.Scatter(x=bitcoin_data.index, y=bitcoin_data['close'], mode='lines', name='Bitcoin Price')\n",
    "\n",
    "# Create the uptrend and downtrend traces using scatter plots based on 3-day resampled data\n",
    "uptrend_trace = go.Scatter(x=bitcoin_data_3day.index[is_uptrend], y=bitcoin_data_3day['close'][is_uptrend],\n",
    "                           mode='markers', name='Uptrend', marker=dict(color='green', symbol='triangle-up'))\n",
    "downtrend_trace = go.Scatter(x=bitcoin_data_3day.index[is_downtrend], y=bitcoin_data_3day['close'][is_downtrend],\n",
    "                             mode='markers', name='Downtrend', marker=dict(color='red', symbol='triangle-down'))\n",
    "\n",
    "# Combine the traces\n",
    "data = [price_trace, uptrend_trace, downtrend_trace]\n",
    "\n",
    "# Create the layout\n",
    "layout = go.Layout(title='Bitcoin Price with Uptrends and Downtrends (3-Day Resampling)',\n",
    "                   xaxis=dict(title='Date'),\n",
    "                   yaxis=dict(title='Bitcoin Price (USD)'),\n",
    "                   showlegend=True,\n",
    "                   )\n",
    "\n",
    "# Create the figure and plot\n",
    "fig = go.Figure(data=data, layout=layout)\n",
    "fig.show()\n"
   ]
  },
  {
   "cell_type": "markdown",
   "id": "2ab83a14",
   "metadata": {},
   "source": [
    "#### Average True Range (ATR):\n",
    "ATR is a technical indicator used to measure market volatility. It was introduced by J. Welles Wilder Jr. in his book \"New Concepts in Technical Trading Systems.\" ATR calculates the average range between the high and low prices over a specific period, considering potential gaps between consecutive trading days.\n",
    "\n",
    "ATR can provide valuable insights into the volatility of an asset, helping traders and investors make informed decisions. Higher ATR values indicate higher volatility, while lower values indicate lower volatility."
   ]
  },
  {
   "cell_type": "code",
   "execution_count": null,
   "id": "8eac84e6",
   "metadata": {
    "ExecuteTime": {
     "end_time": "2023-08-03T07:34:23.838650Z",
     "start_time": "2023-08-03T07:34:23.823023Z"
    }
   },
   "outputs": [],
   "source": [
    "# Calculate Average True Range (ATR) for Bitcoin data\n",
    "high_low_range = bitcoin_data['high'] - bitcoin_data['low']\n",
    "high_close_range = abs(bitcoin_data['high'] - bitcoin_data['close'].shift())\n",
    "low_close_range = abs(bitcoin_data['low'] - bitcoin_data['close'].shift())\n",
    "true_range = pd.DataFrame({'HL Range': high_low_range, 'HC Range': high_close_range, 'LC Range': low_close_range})\n",
    "ATR = true_range.max(axis=1).rolling(window=14).mean()"
   ]
  },
  {
   "cell_type": "code",
   "execution_count": null,
   "id": "11dbb99b",
   "metadata": {
    "ExecuteTime": {
     "end_time": "2023-08-03T07:34:25.032597Z",
     "start_time": "2023-08-03T07:34:23.838650Z"
    },
    "scrolled": false
   },
   "outputs": [],
   "source": [
    "# Plot Bitcoin prices with Average True Range (ATR) on a secondary y-axis\n",
    "fig, ax1 = plt.subplots(figsize=(10, 6))\n",
    "\n",
    "# Plot Bitcoin prices on the primary y-axis (left side)\n",
    "ax1.plot(bitcoin_data.index, bitcoin_data['close'], label='Bitcoin Price', color='blue')\n",
    "ax1.set_xlabel('Date')\n",
    "ax1.set_ylabel('Bitcoin Price', color='blue')\n",
    "ax1.tick_params(axis='y', labelcolor='blue')\n",
    "ax1.grid(True)\n",
    "\n",
    "# Create a secondary y-axis for ATR (right side)\n",
    "ax2 = ax1.twinx()\n",
    "ax2.plot(bitcoin_data.index, ATR, label='Average True Range (ATR)', color='purple')\n",
    "ax2.set_ylabel('Average True Range (ATR)', color='purple')\n",
    "ax2.tick_params(axis='y', labelcolor='purple')\n",
    "\n",
    "# Add a legend that combines both lines from both y-axes\n",
    "lines_1, labels_1 = ax1.get_legend_handles_labels()\n",
    "lines_2, labels_2 = ax2.get_legend_handles_labels()\n",
    "ax1.legend(lines_1 + lines_2, labels_1 + labels_2, loc='upper left')\n",
    "\n",
    "plt.title('Bitcoin Price and Average True Range (ATR)')\n",
    "plt.grid(True)\n",
    "plt.tight_layout()\n",
    "plt.show()\n"
   ]
  },
  {
   "cell_type": "markdown",
   "id": "b70002ae",
   "metadata": {},
   "source": [
    "## Time-Series Modeling and Forecasting\n",
    " We'll consider the ARIMA (AutoRegressive Integrated Moving Average) model, SARIMA (Seasonal ARIMA) model, and Facebook Prophet for forecasting. The goal is to train the models on a portion of the data and validate the performance on unseen data."
   ]
  },
  {
   "cell_type": "markdown",
   "id": "d5b2a1ea",
   "metadata": {},
   "source": [
    "### ARIMA (AutoRegressive Integrated Moving Average) Model"
   ]
  },
  {
   "cell_type": "markdown",
   "id": "496246b1",
   "metadata": {},
   "source": [
    "- ACF: The AutoCorrelation Function measures the correlation between a time series and its lagged values. It helps to identify the level of autocorrelation in a time series at different lagged time points. The ACF plot shows the correlation coefficient at various lags. It typically decays over time, indicating a non-stationary time series.\n",
    "\n",
    "- PACF: The Partial AutoCorrelation Function measures the correlation between a time series and its lagged values, removing the effect of intermediate lags. It helps to identify the direct relationship between a time series and its lagged values. The PACF plot helps determine the order of the AR (AutoRegressive) component in an ARIMA model.\n",
    "\n",
    "Using ACF and PACF plots, we can identify the order of the ARIMA model (p, d, q) as follows:\n",
    "\n",
    "- AR(p): The order of the AutoRegressive component (p) can be determined by looking at the PACF plot. The PACF plot will show significant spikes at lag points that indicate the direct relationship between the time series and its lagged values. The order of the AR component is usually the highest lag value with a significant spike before it starts to drop off.\n",
    "\n",
    "- I(d): The order of Integration (d) represents the number of differencing operations required to make the time series stationary. This can be determined by looking at the ACF plot. If the ACF plot shows a gradual decay or the series is already stationary, then d = 0. Otherwise, d is the minimum differencing required to make the series stationary.\n",
    "\n",
    "- MA(q): The order of the Moving Average component (q) can be determined by looking at the ACF plot. The ACF plot will show significant spikes at lag points that indicate the correlation between the time series and its lagged moving average values. The order of the MA component is usually the highest lag value with a significant spike before it starts to drop off.\n",
    "\n",
    "By analyzing the ACF and PACF plots, we can determine the appropriate values for p, d, and q, which form the order of the ARIMA model to best capture the underlying patterns and autocorrelation in the time series data."
   ]
  },
  {
   "cell_type": "markdown",
   "id": "854d2e35",
   "metadata": {},
   "source": [
    "#### ACF and PACF Plots"
   ]
  },
  {
   "cell_type": "code",
   "execution_count": null,
   "id": "f0966f95",
   "metadata": {
    "ExecuteTime": {
     "end_time": "2023-08-03T07:34:25.048586Z",
     "start_time": "2023-08-03T07:34:25.036595Z"
    }
   },
   "outputs": [],
   "source": [
    "from statsmodels.graphics.tsaplots import plot_acf, plot_pacf"
   ]
  },
  {
   "cell_type": "code",
   "execution_count": null,
   "id": "93a23040",
   "metadata": {
    "ExecuteTime": {
     "end_time": "2023-08-03T07:34:25.916498Z",
     "start_time": "2023-08-03T07:34:25.053583Z"
    },
    "scrolled": true
   },
   "outputs": [],
   "source": [
    "# Plot the ACF and PACF plots\n",
    "fig, (ax1, ax2) = plt.subplots(2, 1, figsize=(10, 8))\n",
    "\n",
    "# Plot the ACF plot\n",
    "plot_acf(bitcoin_close_daily, lags=50, ax=ax1)\n",
    "\n",
    "# Plot the PACF plot using the 'ywm' method\n",
    "plot_pacf(bitcoin_close_daily, lags=50, ax=ax2, method='ywm')\n",
    "\n",
    "plt.show()\n"
   ]
  },
  {
   "cell_type": "code",
   "execution_count": null,
   "id": "4a8edad9",
   "metadata": {
    "ExecuteTime": {
     "end_time": "2023-08-03T07:34:26.575105Z",
     "start_time": "2023-08-03T07:34:25.920495Z"
    },
    "scrolled": false
   },
   "outputs": [],
   "source": [
    "# Plot the ACF and PACF plots\n",
    "fig, (ax1, ax2) = plt.subplots(2, 1, figsize=(10, 8))\n",
    "\n",
    "# Plot the ACF plot\n",
    "plot_acf(bitcoin_data_weekly['close'], lags=50, ax=ax1)\n",
    "\n",
    "# Plot the PACF plot using the 'ywm' method\n",
    "plot_pacf(bitcoin_data_weekly['close'], lags=50, ax=ax2, method='ywm')\n",
    "\n",
    "plt.show()\n"
   ]
  },
  {
   "cell_type": "markdown",
   "id": "97d764bc",
   "metadata": {},
   "source": [
    "As can be seen in the plots, the ACF value never reaches 0 when we resample the hourly data to daily, but reaches 0 and becomes negative when we resample to weekly. This behavior is expected and can be attributed to the impact of seasonality on the time series.\n",
    "\n",
    "When we resample the hourly data to daily intervals, we are likely retaining the impact of intra-day patterns and fluctuations in the time series. As a result, the ACF values may not reach 0 since there could be some correlation between the data points within each day. In other words, the daily data still carries the memory of the previous hour's data, leading to non-zero ACF values.\n",
    "\n",
    "On the other hand, when we resample the data to weekly intervals, we are aggregating the daily data over each week. By doing so, we are effectively removing the finer intra-day patterns and fluctuations, and the resulting weekly data might exhibit more apparent seasonality or periodicity. The ACF values may then reach 0 and even become negative due to the seasonality patterns that repeat at weekly intervals.\n",
    "\n",
    "This behavior highlights the importance of understanding the inherent patterns and seasonality in the time series data before conducting ACF analysis. The choice of the resampling frequency can have a significant impact on the ACF results and the insights derived from them.\n",
    "\n",
    "We are interested in capturing and analyzing seasonality, so the ACF and PACF plots of the resampled weekly data could provide valuable insights into the underlying periodic patterns and autocorrelation structure."
   ]
  },
  {
   "cell_type": "code",
   "execution_count": null,
   "id": "2c4cdb74",
   "metadata": {
    "ExecuteTime": {
     "end_time": "2023-08-03T07:34:26.591096Z",
     "start_time": "2023-08-03T07:34:26.580101Z"
    }
   },
   "outputs": [],
   "source": [
    "# Calculate first-order differencing (removing daily seasonality)\n",
    "bitcoin_data['Differenced'] = bitcoin_data['close'].diff()"
   ]
  },
  {
   "cell_type": "code",
   "execution_count": null,
   "id": "429cbba7",
   "metadata": {
    "ExecuteTime": {
     "end_time": "2023-08-03T07:34:27.603200Z",
     "start_time": "2023-08-03T07:34:26.598091Z"
    }
   },
   "outputs": [],
   "source": [
    "# Plot the ACF and PACF plots\n",
    "fig, (ax1, ax2) = plt.subplots(2, 1, figsize=(10, 8))\n",
    "\n",
    "# Plot the ACF plot\n",
    "plot_acf(bitcoin_data['Differenced'], lags=50, ax=ax1)\n",
    "\n",
    "# Plot the PACF plot using the 'ywm' method\n",
    "plot_pacf(bitcoin_data['Differenced'], lags=50, ax=ax2, method='ywm')\n",
    "\n",
    "plt.show()\n"
   ]
  },
  {
   "cell_type": "markdown",
   "id": "32c49f71",
   "metadata": {},
   "source": [
    "1. Autoregressive (AR) Component (p):\n",
    "\n",
    "- Look at the PACF plot and find the last significant spike before it drops to zero. The lag at which this spike occurs can give you an idea of the order of the AR component (p).\n",
    "- If the PACF plot shows a significant spike at lag 1 and a gradual decay afterward, you might consider an AR(p) model with p=1.\n",
    "\n",
    "2. Moving Average (MA) Component (q):\n",
    "\n",
    "- Examine the ACF plot and find the last significant spike before it drops to zero. The lag at which this spike occurs can provide an indication of the order of the MA component (q).\n",
    "\n",
    "- If the ACF plot shows a significant spike at lag 1 and a gradual decay afterward, you might consider an MA(q) model with q=1.\n",
    "\n",
    "3. Differencing (d):\n",
    "\n",
    "- Look for the number of times you need to difference the data to make it stationary. This is the value of d.\n",
    "\n",
    "- If the differenced data shows a fairly stable mean and variance over time, d=1 may be sufficient. However, if it is still non-stationary, you may need to try d=2 or higher."
   ]
  },
  {
   "cell_type": "code",
   "execution_count": null,
   "id": "df972c9e",
   "metadata": {
    "ExecuteTime": {
     "end_time": "2023-08-03T07:34:27.794154Z",
     "start_time": "2023-08-03T07:34:27.606200Z"
    },
    "tags": [
     "necessary"
    ]
   },
   "outputs": [],
   "source": [
    "from sklearn.model_selection import train_test_split\n",
    "from statsmodels.tsa.arima.model import ARIMA"
   ]
  },
  {
   "cell_type": "code",
   "execution_count": null,
   "id": "7dbfa2e1",
   "metadata": {
    "ExecuteTime": {
     "end_time": "2023-08-03T08:15:25.674945Z",
     "start_time": "2023-08-03T08:15:20.041759Z"
    }
   },
   "outputs": [],
   "source": [
    "bitcoin_daily = bitcoin_data['close'].asfreq('D')\n",
    "\n",
    "# Split the data into training and validation sets using train_test_split\n",
    "train_size = 0.8\n",
    "train, test = train_test_split(bitcoin_daily, train_size=train_size, shuffle=False, random_state=42)\n",
    "\n",
    "# Fit the ARIMA model\n",
    "p, d, q = 28, 1, 1\n",
    "# p, d, q = 29, 0, 1\n",
    "arima_model = ARIMA(train, order=(p, d, q))\n",
    "results_arima = arima_model.fit()\n",
    "\n",
    "# Make predictions on the validation set\n",
    "start_index = len(train)\n",
    "end_index = len(bitcoin_daily) - 1\n",
    "predictions_arima = results_arima.predict(start=start_index, end=end_index, dynamic=False)\n",
    "\n",
    "# Plot the actual vs. predicted Bitcoin prices\n",
    "plt.figure(figsize=(12, 6))\n",
    "plt.plot(bitcoin_daily.index, bitcoin_daily, label='Actual Prices', color='blue')\n",
    "plt.plot(predictions_arima.index, predictions_arima, label='Predicted Prices', color='red')\n",
    "plt.title('ARIMA Model: Actual vs. Predicted Bitcoin Prices')\n",
    "plt.xlabel('Date')\n",
    "plt.ylabel('Bitcoin Price (USD)')\n",
    "plt.legend()\n",
    "plt.grid(True)\n",
    "plt.show()\n"
   ]
  },
  {
   "cell_type": "code",
   "execution_count": null,
   "id": "489c31cd",
   "metadata": {
    "ExecuteTime": {
     "end_time": "2023-08-03T08:15:08.911468Z",
     "start_time": "2023-08-03T08:15:08.886481Z"
    }
   },
   "outputs": [],
   "source": [
    "from sklearn.metrics import mean_absolute_error, mean_squared_error\n",
    "\n",
    "mae_arima = mean_absolute_error(bitcoin_daily[start_index:], predictions_arima)\n",
    "rmse_arima = np.sqrt(mean_squared_error(bitcoin_daily[start_index:], predictions_arima))\n",
    "print(\"ARIMA MAE:\", mae_arima)\n",
    "print(\"ARIMA RMSE:\", rmse_arima)"
   ]
  },
  {
   "cell_type": "code",
   "execution_count": null,
   "id": "ea68d091",
   "metadata": {},
   "outputs": [],
   "source": [
    "import warnings\n",
    "\n",
    "# Supress all warnings\n",
    "warnings.filterwarnings('ignore')"
   ]
  },
  {
   "cell_type": "code",
   "execution_count": null,
   "id": "ffff4d00",
   "metadata": {
    "ExecuteTime": {
     "end_time": "2023-08-03T08:13:10.905364Z",
     "start_time": "2023-08-03T08:07:02.972831Z"
    }
   },
   "outputs": [],
   "source": [
    "bitcoin_daily = bitcoin_data['close'].asfreq('D')\n",
    "\n",
    "# Split the data into training and validation sets using train_test_split\n",
    "train_size = 0.8\n",
    "train, test = train_test_split(bitcoin_daily, train_size=train_size, shuffle=False)\n",
    "\n",
    "# Define the parameter grid for p, d, and q\n",
    "param_grid = {\n",
    "    'p': [27, 28, 29],\n",
    "    'd': [0, 1, 2],\n",
    "    'q': [0, 1, 2],\n",
    "}\n",
    "\n",
    "best_mae = float('inf')\n",
    "best_params = None\n",
    "\n",
    "# Iterate through the parameter grid\n",
    "for p in param_grid['p']:\n",
    "    for d in param_grid['d']:\n",
    "        for q in param_grid['q']:\n",
    "            try:\n",
    "                # Fit the ARIMA model\n",
    "                arima_model = ARIMA(train, order=(p, d, q))\n",
    "                results = arima_model.fit()\n",
    "                \n",
    "                # Make predictions on the validation set\n",
    "                start_index = len(train)\n",
    "                end_index = len(bitcoin_daily) - 1\n",
    "                predictions = results.predict(start=start_index, end=end_index, dynamic=False)\n",
    "                \n",
    "                # Calculate MAE\n",
    "                mae = mean_absolute_error(test, predictions)\n",
    "                \n",
    "                # Check if this combination of parameters gives a better MAE\n",
    "                if mae < best_mae:\n",
    "                    best_mae = mae\n",
    "                    best_params = (p, d, q)\n",
    "                \n",
    "            except:\n",
    "                continue\n",
    "\n",
    "print(\"Best MAE:\", best_mae)\n",
    "print(\"Best Parameters (p, d, q):\", best_params)\n"
   ]
  },
  {
   "cell_type": "code",
   "execution_count": null,
   "id": "99cab9cb",
   "metadata": {
    "ExecuteTime": {
     "end_time": "2023-08-03T08:15:42.765923Z",
     "start_time": "2023-08-03T08:15:42.700970Z"
    }
   },
   "outputs": [],
   "source": [
    "# Fit the ARIMA model with the best parameters\n",
    "best_arima_model = ARIMA(train, order=best_params)\n",
    "best_results = best_arima_model.fit()\n",
    "\n",
    "# Make predictions on the validation set\n",
    "start_index = len(train)\n",
    "end_index = len(bitcoin_daily) - 1\n",
    "predictions_arima_tuned = best_results.predict(start=start_index, end=end_index, dynamic=False)\n",
    "\n",
    "mae_arima_tuned = mean_absolute_error(bitcoin_daily[start_index:], predictions_arima_tuned)\n",
    "rmse_arima_tuned = np.sqrt(mean_squared_error(bitcoin_daily[start_index:], predictions_arima_tuned))\n",
    "print(\"ARIMA MAE Tuned:\", mae_arima_tuned)\n",
    "print(\"ARIMA RMSE Tuned:\", rmse_arima_tuned)"
   ]
  },
  {
   "cell_type": "code",
   "execution_count": null,
   "id": "f3b1db7c",
   "metadata": {
    "ExecuteTime": {
     "end_time": "2023-08-03T07:33:27.813498Z",
     "start_time": "2023-08-03T07:33:27.813498Z"
    }
   },
   "outputs": [],
   "source": [
    "# Plot the actual vs. predicted Bitcoin prices\n",
    "plt.figure(figsize=(12, 6))\n",
    "plt.plot(bitcoin_daily.index, bitcoin_daily, label='Actual Prices', color='blue')\n",
    "plt.plot(predictions_arima_tuned.index, predictions_arima_tuned, label='Predicted Prices', color='red')\n",
    "plt.title('ARIMA Model With Hyperparameter Tuning: Actual vs. Predicted Bitcoin Prices')\n",
    "plt.xlabel('Date')\n",
    "plt.ylabel('Bitcoin Price (USD)')\n",
    "plt.legend()\n",
    "plt.grid(True)\n",
    "plt.show()"
   ]
  },
  {
   "cell_type": "markdown",
   "id": "d5697607",
   "metadata": {},
   "source": [
    "### SARIMA (Seasonal ARIMA) Model\n",
    "SARIMA (Seasonal Autoregressive Integrated Moving Average) is an extension of the ARIMA (Autoregressive Integrated Moving Average) model that incorporates seasonality. It is a powerful time-series forecasting method that can handle data with both trend and seasonality.\n",
    "Seasonal Component: SARIMA introduces a seasonal component that captures repeating patterns in the data at fixed intervals. This is suitable for data with seasonality, such as monthly, quarterly, or yearly patterns.\n",
    "\n",
    "Autoregressive (AR) Component: The autoregressive component captures the relationship between the current value of the series and its past values. It involves regressing the series against its own lagged values.\n",
    "\n",
    "Integrated (I) Component: The integrated component refers to differencing the series to make it stationary. Stationarity is important for time-series models as it helps stabilize the mean and variance over time.\n",
    "\n",
    "Moving Average (MA) Component: The moving average component models the relationship between the current value of the series and its past forecast errors (lags of the error term).\n",
    "\n",
    "Parameters of SARIMA:\n",
    "\n",
    "The SARIMA model is defined by three sets of parameters:\n",
    "\n",
    "p, d, q: These parameters correspond to the autoregressive order (p), differencing order (d), and moving average order (q) of the non-seasonal part of the model.\n",
    "\n",
    "P, D, Q, s: These parameters correspond to the autoregressive order (P), differencing order (D), moving average order (Q), and the length of the seasonal period (s) for the seasonal part of the model.\n"
   ]
  },
  {
   "cell_type": "code",
   "execution_count": null,
   "id": "0d5d8b2b",
   "metadata": {
    "ExecuteTime": {
     "end_time": "2023-08-03T07:33:27.818494Z",
     "start_time": "2023-08-03T07:33:27.818494Z"
    }
   },
   "outputs": [],
   "source": [
    "bitcoin_daily = bitcoin_data['close'].asfreq('D')\n",
    "\n",
    "# Split the data into training and validation sets using train_test_split\n",
    "train_size = 0.8\n",
    "train, test = train_test_split(bitcoin_daily, train_size=train_size, shuffle=False, random_state=42)\n",
    "\n",
    "# Define the order of the SARIMA model (p, d, q, P, D, Q, s)\n",
    "order = best_params  # Non-seasonal components (p, d, q)\n",
    "seasonal_order = (0, 1, 1, 7)  # Seasonal components (P, D, Q, s)\n",
    "\n",
    "# Fit the SARIMA model\n",
    "sarima_model = sm.tsa.SARIMAX(bitcoin_daily, order=order, seasonal_order=seasonal_order)\n",
    "sarima_fit = sarima_model.fit()\n",
    "\n",
    "# Make predictions on the validation set\n",
    "start_index = len(train)\n",
    "end_index = len(bitcoin_daily) - 1\n",
    "\n",
    "predictions_sarima = sarima_fit.predict(start=start_index, end=end_index, dynamic=False)\n",
    "\n",
    "# Plot the actual vs. predicted Bitcoin prices\n",
    "plt.figure(figsize=(12, 6))\n",
    "plt.plot(bitcoin_daily.index, bitcoin_daily, label='Actual Prices', color='blue')\n",
    "plt.plot(predictions_sarima.index, predictions_sarima, label='Predicted Prices', color='red')\n",
    "plt.title('SARIMA Model: Actual vs. Predicted Bitcoin Prices')\n",
    "plt.xlabel('Date')\n",
    "plt.ylabel('Bitcoin Price (USD)')\n",
    "plt.legend()\n",
    "plt.grid(True)\n",
    "plt.show()"
   ]
  },
  {
   "cell_type": "markdown",
   "id": "9490c61f",
   "metadata": {},
   "source": [
    "Checking for overfitting by making predictions on training data and calculating the MAE."
   ]
  },
  {
   "cell_type": "code",
   "execution_count": null,
   "id": "a04d753e",
   "metadata": {},
   "outputs": [],
   "source": [
    "tp = sarima_fit.predict(start=1, end=len(train)-1, dynamic=False)\n",
    "\n",
    "train_mae = mean_absolute_error(train[:-1], tp)\n",
    "\n",
    "print(\"MAE on training data:\", train_mae)"
   ]
  },
  {
   "cell_type": "code",
   "execution_count": null,
   "id": "cd6a933f",
   "metadata": {},
   "outputs": [],
   "source": [
    "print(\"MAE on test data:\", mean_absolute_error(bitcoin_daily[start_index:], predictions_sarima))"
   ]
  },
  {
   "cell_type": "markdown",
   "id": "c140d0e4",
   "metadata": {},
   "source": [
    "MAE on training data is not too small, so the model isn't overfitted."
   ]
  },
  {
   "cell_type": "code",
   "execution_count": null,
   "id": "6cc5fb24",
   "metadata": {},
   "outputs": [],
   "source": [
    "# Set the number of periods you want to forecast\n",
    "forecast_periods = len(test)  # Or the number of periods you want to forecast\n",
    "\n",
    "# Create a DataFrame with future dates for forecasting\n",
    "last_date = bitcoin_daily.index[-1]\n",
    "future_dates = pd.date_range(start=last_date, periods=forecast_periods + 1, freq='D')\n",
    "future_dates = future_dates[1:]  # Exclude the last date of the training data\n",
    "\n",
    "# Generate forecasts for future dates\n",
    "forecast_steps = len(future_dates)  # Number of steps to forecast\n",
    "forecast = sarima_fit.forecast(steps=forecast_steps)\n",
    "\n",
    "plt.figure(figsize=(12, 6))\n",
    "plt.plot(bitcoin_daily.index, bitcoin_daily, label='Actual Prices', color='blue')\n",
    "plt.plot(predictions_sarima.index, predictions_sarima, label='Predictions', color='red')\n",
    "plt.plot(forecast.index, forecast, label='Forecasts', color='green')\n",
    "plt.title('SARIMA Model: Actual, Predictions, and Forecasts')\n",
    "plt.xlabel('Date')\n",
    "plt.ylabel('Bitcoin Price (USD)')\n",
    "plt.legend()\n",
    "plt.grid(True)\n",
    "plt.show()"
   ]
  },
  {
   "cell_type": "markdown",
   "id": "a1b8c5c4",
   "metadata": {},
   "source": [
    "### Facebook's Prophet\n",
    "Prophet is a time series forecasting model developed by Facebook's Core Data Science team. It is designed to handle time series data with strong seasonal patterns, multiple seasonality, and holiday effects. The model decomposes the time series into several components, including trend, seasonality, and holiday effects. It then models each component independently and combines them to make accurate forecasts."
   ]
  },
  {
   "cell_type": "code",
   "execution_count": null,
   "id": "ce093a02",
   "metadata": {
    "ExecuteTime": {
     "end_time": "2023-08-03T07:33:27.822491Z",
     "start_time": "2023-08-03T07:33:27.822491Z"
    }
   },
   "outputs": [],
   "source": [
    "from prophet import Prophet\n",
    "\n",
    "bitcoin_prophet = bitcoin_data[['close']].reset_index()\n",
    "bitcoin_prophet.rename(columns={'time': 'ds', 'close': 'y'}, inplace=True)\n",
    "\n",
    "train_size = 0.8\n",
    "train_prophet, test_prophet = train_test_split(bitcoin_prophet, train_size=train_size, shuffle=False, random_state=42)\n",
    "\n",
    "model = Prophet()\n",
    "model.fit(train_prophet)\n",
    "\n",
    "# Set the number of periods you want to forecast \n",
    "forecast_periods = 6*30*24\n",
    "\n",
    "# Create a DataFrame with future dates for forecasting\n",
    "future_dates = model.make_future_dataframe(periods=forecast_periods, freq='H')\n",
    "\n",
    "# Make predictions for the future dates\n",
    "forecast = model.predict(future_dates)\n",
    "\n",
    "fig2 = model.plot_components(forecast)"
   ]
  },
  {
   "cell_type": "code",
   "execution_count": null,
   "id": "2ff37b33",
   "metadata": {
    "ExecuteTime": {
     "end_time": "2023-08-03T07:33:27.839480Z",
     "start_time": "2023-08-03T07:33:27.839480Z"
    }
   },
   "outputs": [],
   "source": [
    "plt.figure(figsize=(12, 6))\n",
    "plt.plot(bitcoin_prophet['ds'], bitcoin_prophet['y'], label='Actual Prices', color='blue')\n",
    "plt.plot(forecast['ds'], forecast['yhat'], label='Predicted Prices', color='red')\n",
    "plt.title('Prophet Model: Actual vs. Predicted Bitcoin Prices')\n",
    "plt.xlabel('Date')\n",
    "plt.ylabel('Bitcoin Price (USD)')\n",
    "plt.legend()\n",
    "plt.grid(True)\n",
    "plt.show()"
   ]
  },
  {
   "cell_type": "code",
   "execution_count": null,
   "id": "77cb3258",
   "metadata": {
    "ExecuteTime": {
     "end_time": "2023-08-03T07:33:27.843478Z",
     "start_time": "2023-08-03T07:33:27.843478Z"
    }
   },
   "outputs": [],
   "source": [
    "# Extract the predictions for the train set\n",
    "train_predictions = forecast[forecast['ds'].isin(train_prophet['ds'])]\n",
    "\n",
    "# Calculate the mean absolute error (MAE)\n",
    "mae_train = mean_absolute_error(train_prophet['y'], train_predictions['yhat'])\n",
    "\n",
    "# Calculate the root mean squared error (RMSE)\n",
    "rmse_train = np.sqrt(mean_squared_error(train_prophet['y'], train_predictions['yhat']))\n",
    "\n",
    "print(\"Mean Absolute Error (MAE):\", mae_train)\n",
    "print(\"Root Mean Squared Error (RMSE):\", rmse_train)"
   ]
  },
  {
   "cell_type": "markdown",
   "id": "7d1b51eb",
   "metadata": {},
   "source": [
    "## Model Performance Comparisons"
   ]
  },
  {
   "cell_type": "code",
   "execution_count": null,
   "id": "c8588cf6",
   "metadata": {
    "ExecuteTime": {
     "end_time": "2023-08-03T07:33:27.848476Z",
     "start_time": "2023-08-03T07:33:27.848476Z"
    }
   },
   "outputs": [],
   "source": [
    "from sklearn.metrics import mean_absolute_error, mean_squared_error\n",
    "\n",
    "start_index = len(train)\n",
    "end_index = len(bitcoin_daily) - 1\n",
    "\n",
    "mae_arima = mean_absolute_error(bitcoin_daily[start_index:], predictions_arima)\n",
    "rmse_arima = np.sqrt(mean_squared_error(bitcoin_daily[start_index:], predictions_arima))\n",
    "print(\"ARIMA MAE:\", mae_arima)\n",
    "print(\"ARIMA RMSE:\", rmse_arima)\n",
    "                     \n",
    "mae_arima_tuned = mean_absolute_error(bitcoin_daily[start_index:], predictions_arima_tuned)\n",
    "rmse_arima_tuned = np.sqrt(mean_squared_error(bitcoin_daily[start_index:], predictions_arima_tuned))\n",
    "print(\"ARIMA MAE Tuned:\", mae_arima_tuned)\n",
    "print(\"ARIMA RMSE Tuned:\", rmse_arima_tuned)\n",
    "                     \n",
    "mae_sarima = mean_absolute_error(bitcoin_daily[start_index:], predictions_sarima)\n",
    "rmse_sarima = np.sqrt(mean_squared_error(bitcoin_daily[start_index:], predictions_sarima))\n",
    "print(\"SARIMA MAE:\", mae_sarima)\n",
    "print(\"SARIMA RMSE:\", rmse_sarima)\n",
    "\n",
    "predictions_prophet = forecast[forecast['ds'].isin(test_prophet['ds'])]\n",
    "mae_prophet = mean_absolute_error(test_prophet['y'], predictions_prophet['yhat'])\n",
    "rmse_prophet = np.sqrt(mean_squared_error(test_prophet['y'], predictions_prophet['yhat']))\n",
    "\n",
    "print(\"Prophet MAE:\", mae_prophet)\n",
    "print(\"Prophet RMSE:\", rmse_prophet)"
   ]
  }
 ],
 "metadata": {
  "execute_time": {
   "tags": [
    "necessary"
   ]
  },
  "kernelspec": {
   "display_name": "Python 3 (ipykernel)",
   "language": "python",
   "name": "python3"
  },
  "language_info": {
   "codemirror_mode": {
    "name": "ipython",
    "version": 3
   },
   "file_extension": ".py",
   "mimetype": "text/x-python",
   "name": "python",
   "nbconvert_exporter": "python",
   "pygments_lexer": "ipython3",
   "version": "3.10.9"
  },
  "toc": {
   "base_numbering": 1,
   "nav_menu": {},
   "number_sections": true,
   "sideBar": false,
   "skip_h1_title": false,
   "title_cell": "Table of Contents",
   "title_sidebar": "Contents",
   "toc_cell": true,
   "toc_position": {
    "height": "calc(100% - 180px)",
    "left": "10px",
    "top": "150px",
    "width": "273.188px"
   },
   "toc_section_display": true,
   "toc_window_display": true
  },
  "varInspector": {
   "cols": {
    "lenName": 16,
    "lenType": 16,
    "lenVar": 40
   },
   "kernels_config": {
    "python": {
     "delete_cmd_postfix": "",
     "delete_cmd_prefix": "del ",
     "library": "var_list.py",
     "varRefreshCmd": "print(var_dic_list())"
    },
    "r": {
     "delete_cmd_postfix": ") ",
     "delete_cmd_prefix": "rm(",
     "library": "var_list.r",
     "varRefreshCmd": "cat(var_dic_list()) "
    }
   },
   "types_to_exclude": [
    "module",
    "function",
    "builtin_function_or_method",
    "instance",
    "_Feature"
   ],
   "window_display": false
  }
 },
 "nbformat": 4,
 "nbformat_minor": 5
}
